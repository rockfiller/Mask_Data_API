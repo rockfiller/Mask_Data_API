{
  "nbformat": 4,
  "nbformat_minor": 0,
  "metadata": {
    "colab": {
      "provenance": [],
      "authorship_tag": "ABX9TyM8mmSgTPmtofLmucutBaPs",
      "include_colab_link": true
    },
    "kernelspec": {
      "name": "python3",
      "display_name": "Python 3"
    },
    "language_info": {
      "name": "python"
    }
  },
  "cells": [
    {
      "cell_type": "markdown",
      "metadata": {
        "id": "view-in-github",
        "colab_type": "text"
      },
      "source": [
        "<a href=\"https://colab.research.google.com/github/rockfiller/Mask_Data_API/blob/main/Mask_Data_API.ipynb\" target=\"_parent\"><img src=\"https://colab.research.google.com/assets/colab-badge.svg\" alt=\"Open In Colab\"/></a>"
      ]
    },
    {
      "cell_type": "code",
      "execution_count": 25,
      "metadata": {
        "colab": {
          "base_uri": "https://localhost:8080/"
        },
        "collapsed": true,
        "id": "WJIvYyprbhW_",
        "outputId": "213a09ac-6a12-4cb0-8581-ae4368775849"
      },
      "outputs": [
        {
          "output_type": "stream",
          "name": "stdout",
          "text": [
            "Number of pharmacies in each county:\n",
            "('臺北市', '339', '2024-07-18 04:17:29.483169')\n",
            "('高雄市', '422', '2024-07-18 04:17:29.491560')\n",
            "('臺中市', '420', '2024-07-18 04:17:29.498861')\n",
            "('臺南市', '271', '2024-07-18 04:17:29.506860')\n",
            "('基隆市', '57', '2024-07-18 04:17:29.514708')\n",
            "('新竹市', '39', '2024-07-18 04:17:29.522321')\n",
            "('嘉義市', '67', '2024-07-18 04:17:29.530305')\n",
            "('新北市', '501', '2024-07-18 04:17:29.537826')\n",
            "('桃園市', '264', '2024-07-18 04:17:29.545913')\n",
            "('新竹縣', '46', '2024-07-18 04:17:29.553495')\n",
            "('宜蘭縣', '76', '2024-07-18 04:17:29.561863')\n",
            "('苗栗縣', '56', '2024-07-18 04:17:29.569249')\n",
            "('彰化縣', '179', '2024-07-18 04:17:29.577454')\n",
            "('南投縣', '67', '2024-07-18 04:17:29.585301')\n",
            "('雲林縣', '129', '2024-07-18 04:17:29.593276')\n",
            "('嘉義縣', '84', '2024-07-18 04:17:29.601185')\n",
            "('屏東縣', '140', '2024-07-18 04:17:29.611344')\n",
            "('澎湖縣', '11', '2024-07-18 04:17:29.620493')\n",
            "('花蓮縣', '46', '2024-07-18 04:17:29.628750')\n",
            "('臺東縣', '23', '2024-07-18 04:17:29.637204')\n",
            "('金門縣', '6', '2024-07-18 04:17:29.644994')\n",
            "('連江縣', '1', '2024-07-18 04:17:29.653055')\n",
            "\n",
            "Number of adult masks (descending order) in each county:\n",
            "('新北市', '670270', '2024-07-18 04:17:29.674351')\n",
            "('臺中市', '536710', '2024-07-18 04:17:29.682135')\n",
            "('高雄市', '424170', '2024-07-18 04:17:29.690377')\n",
            "('臺南市', '393900', '2024-07-18 04:17:29.698093')\n",
            "('桃園市', '331940', '2024-07-18 04:17:29.705912')\n",
            "('臺北市', '322490', '2024-07-18 04:17:29.713670')\n",
            "('彰化縣', '219400', '2024-07-18 04:17:29.721915')\n",
            "('雲林縣', '196990', '2024-07-18 04:17:29.730255')\n",
            "('屏東縣', '184250', '2024-07-18 04:17:29.737863')\n",
            "('苗栗縣', '131080', '2024-07-18 04:17:29.746696')\n",
            "('嘉義縣', '113180', '2024-07-18 04:17:29.754772')\n",
            "('嘉義市', '107840', '2024-07-18 04:17:29.762429')\n",
            "('宜蘭縣', '106900', '2024-07-18 04:17:29.769977')\n",
            "('南投縣', '91240', '2024-07-18 04:17:29.778030')\n",
            "('基隆市', '80100', '2024-07-18 04:17:29.785668')\n",
            "('花蓮縣', '57330', '2024-07-18 04:17:29.793724')\n",
            "('新竹縣', '51350', '2024-07-18 04:17:29.801587')\n",
            "('新竹市', '45630', '2024-07-18 04:17:29.809899')\n",
            "('臺東縣', '28510', '2024-07-18 04:17:29.817512')\n",
            "('金門縣', '15510', '2024-07-18 04:17:29.825252')\n",
            "('澎湖縣', '12600', '2024-07-18 04:17:29.833226')\n",
            "('連江縣', '7930', '2024-07-18 04:17:29.842064')\n"
          ]
        }
      ],
      "source": [
        "import requests\n",
        "import json\n",
        "import sqlite3\n",
        "import datetime\n",
        "\n",
        "# Use requests to send a request to the API.\n",
        "url = 'https://raw.githubusercontent.com/kiang/pharmacies/master/json/points.json'\n",
        "response = requests.get(url)\n",
        "\n",
        "# Save the response content as a string.\n",
        "d = response.text\n",
        "\n",
        "# Parse a string into a dictionary or list.\n",
        "data = json.loads(d)\n",
        "\n",
        "conn = sqlite3.connect('mask_data.db')\n",
        "cursor = conn.cursor()\n",
        "\n",
        "# Insert and clear the data pharmacies table.\n",
        "cursor.execute('''CREATE TABLE IF NOT EXISTS pharmacies\n",
        "        (city text, counts text, createdAt datetime)''')\n",
        "cursor.execute('DELETE FROM pharmacies')\n",
        "conn.commit()\n",
        "\n",
        "pharmacy_count = {}\n",
        "# Count the number of pharmacies in each county.\n",
        "for d in data['features']:\n",
        "    county = d['properties']['county']\n",
        "    if not county:\n",
        "        continue\n",
        "    if county not in pharmacy_count:\n",
        "         pharmacy_count[county] = 0\n",
        "    pharmacy_count[county] += 1\n",
        "\n",
        "for key, value in pharmacy_count.items():\n",
        "    t = datetime.datetime.now()\n",
        "    # print(f\"INSERT INTO pharmacies VALUES ('{key}', '{value}', '{t}')\")\n",
        "    cursor.execute('INSERT INTO pharmacies VALUES (?, ?, ?)', (key, value, t))\n",
        "    conn.commit()\n",
        "\n",
        "print('Number of pharmacies in each county:')\n",
        "# print('\\n'.join([f'{key}: {value}' for key, value in pharmacy_count.items()]))\n",
        "cursor.execute('SELECT * FROM pharmacies')\n",
        "print('\\n'.join([str(row) for row in cursor.fetchall()]))\n",
        "\n",
        "# Insert and clear the data masks table.\n",
        "cursor.execute('''CREATE TABLE IF NOT EXISTS masks\n",
        "        (city text, counts text, createdAt datetime)''')\n",
        "cursor.execute('DELETE FROM masks')\n",
        "conn.commit()\n",
        "\n",
        "mask_count = {}\n",
        "# Count the remaining number of adult masks in each county.\n",
        "for d in data['features']:\n",
        "    county = d['properties']['county']\n",
        "    if not county:\n",
        "        continue\n",
        "    if county not in mask_count:\n",
        "         mask_count[county] = 0\n",
        "    mask_count[county] += d['properties']['mask_adult']\n",
        "\n",
        "# Sort the results in descending order.\n",
        "mask_count = dict(sorted(mask_count.items(), key=lambda item: item[1], reverse=True))\n",
        "\n",
        "for key, value in mask_count.items():\n",
        "    t = datetime.datetime.now()\n",
        "    cursor.execute(f'INSERT INTO masks VALUES (?, ?, ?)', (key, value, t))\n",
        "    conn.commit()\n",
        "\n",
        "print('\\nNumber of adult masks (descending order) in each county:')\n",
        "# print('\\n'.join([f'{key}: {value}' for key, value in mask_count.items()]))\n",
        "cursor.execute('SELECT * FROM masks')\n",
        "print('\\n'.join([str(row) for row in cursor.fetchall()]))\n",
        "\n",
        "conn.commit()\n",
        "conn.close()\n"
      ]
    },
    {
      "cell_type": "code",
      "source": [],
      "metadata": {
        "id": "zEXW8EfwD8uL"
      },
      "execution_count": null,
      "outputs": []
    },
    {
      "cell_type": "code",
      "source": [],
      "metadata": {
        "id": "9TGow-mCD9O9"
      },
      "execution_count": null,
      "outputs": []
    }
  ]
}