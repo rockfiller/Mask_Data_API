{
  "nbformat": 4,
  "nbformat_minor": 0,
  "metadata": {
    "colab": {
      "provenance": [],
      "authorship_tag": "ABX9TyN4wasttFXSzpSj3VPn5L6J",
      "include_colab_link": true
    },
    "kernelspec": {
      "name": "python3",
      "display_name": "Python 3"
    },
    "language_info": {
      "name": "python"
    }
  },
  "cells": [
    {
      "cell_type": "markdown",
      "metadata": {
        "id": "view-in-github",
        "colab_type": "text"
      },
      "source": [
        "<a href=\"https://colab.research.google.com/github/rockfiller/Mask_Data_API/blob/main/Mask_Data_API.ipynb\" target=\"_parent\"><img src=\"https://colab.research.google.com/assets/colab-badge.svg\" alt=\"Open In Colab\"/></a>"
      ]
    },
    {
      "cell_type": "code",
      "execution_count": 30,
      "metadata": {
        "colab": {
          "base_uri": "https://localhost:8080/"
        },
        "collapsed": true,
        "id": "WJIvYyprbhW_",
        "outputId": "ae07ac73-fb03-44e5-f7aa-117900434aca"
      },
      "outputs": [
        {
          "output_type": "stream",
          "name": "stdout",
          "text": [
            "Number of pharmacies in each county:\n",
            "臺北市: 339\n",
            ": 49\n",
            "高雄市: 422\n",
            "臺中市: 420\n",
            "臺南市: 271\n",
            "基隆市: 57\n",
            "新竹市: 39\n",
            "嘉義市: 67\n",
            "新北市: 501\n",
            "桃園市: 264\n",
            "新竹縣: 46\n",
            "宜蘭縣: 76\n",
            "苗栗縣: 56\n",
            "彰化縣: 179\n",
            "南投縣: 67\n",
            "雲林縣: 129\n",
            "嘉義縣: 84\n",
            "屏東縣: 140\n",
            "澎湖縣: 11\n",
            "花蓮縣: 46\n",
            "臺東縣: 23\n",
            "金門縣: 6\n",
            "連江縣: 1\n",
            "\n",
            "Number of adult masks (descending order) in each county:\n",
            "新北市: 670270\n",
            "臺中市: 536710\n",
            "高雄市: 424170\n",
            "臺南市: 393900\n",
            "桃園市: 331940\n",
            "臺北市: 322490\n",
            "彰化縣: 219400\n",
            "雲林縣: 196990\n",
            "屏東縣: 184250\n",
            "苗栗縣: 131080\n",
            "嘉義縣: 113180\n",
            "嘉義市: 107840\n",
            "宜蘭縣: 106900\n",
            "南投縣: 91240\n",
            "基隆市: 80100\n",
            ": 69210\n",
            "花蓮縣: 57330\n",
            "新竹縣: 51350\n",
            "新竹市: 45630\n",
            "臺東縣: 28510\n",
            "金門縣: 15510\n",
            "澎湖縣: 12600\n",
            "連江縣: 7930\n"
          ]
        }
      ],
      "source": [
        "import requests\n",
        "import json\n",
        "\n",
        "\n",
        "# Use requests to send a request to the API.\n",
        "url = 'https://raw.githubusercontent.com/kiang/pharmacies/master/json/points.json'\n",
        "response = requests.get(url)\n",
        "\n",
        "# Save the response content as a string.\n",
        "d = response.text\n",
        "\n",
        "# Parse a string into a dictionary or list.\n",
        "data = json.loads(d)\n",
        "\n",
        "pharmacy_count = {}\n",
        "\n",
        "# Count the number of pharmacies in each county.\n",
        "for d in data['features']:\n",
        "    conunty = d['properties']['county']\n",
        "    if conunty not in pharmacy_count:\n",
        "         pharmacy_count[conunty] = 0\n",
        "    pharmacy_count[conunty] = pharmacy_count[conunty] + 1\n",
        "\n",
        "print('Number of pharmacies in each county:')\n",
        "print('\\n'.join([f'{key}: {value}' for key, value in pharmacy_count.items()]))\n",
        "\n",
        "mask_count = {}\n",
        "\n",
        "# Count the remaining number of adult masks in each conunty.\n",
        "for d in data['features']:\n",
        "    conunty = d['properties']['county']\n",
        "    if conunty not in mask_count:\n",
        "         mask_count[conunty] = 0\n",
        "    mask_count[conunty] = mask_count[conunty] + d['properties']['mask_adult']\n",
        "\n",
        "# Sort the results in descending order.\n",
        "mask_count = dict(sorted(mask_count.items(), key=lambda item: item[1], reverse=True))\n",
        "\n",
        "print('\\nNumber of adult masks (descending order) in each county:')\n",
        "print('\\n'.join([f'{key}: {value}' for key, value in mask_count.items()]))\n"
      ]
    }
  ]
}